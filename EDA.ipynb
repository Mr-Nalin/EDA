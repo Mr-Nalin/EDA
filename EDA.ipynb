{
  "nbformat": 4,
  "nbformat_minor": 0,
  "metadata": {
    "colab": {
      "provenance": []
    },
    "kernelspec": {
      "name": "python3",
      "display_name": "Python 3"
    },
    "language_info": {
      "name": "python"
    }
  },
  "cells": [
    {
      "cell_type": "markdown",
      "source": [
        "# EDA-1"
      ],
      "metadata": {
        "id": "V_aCKJctUl6p"
      }
    },
    {
      "cell_type": "code",
      "source": [
        "import pandas as pd\n",
        "import numpy as np\n",
        "import matplotlib.pyplot as plt\n",
        "import seaborn as sns\n",
        "\n",
        "bike_details_df = pd.read_csv('/content/drive/MyDrive/PW-Skills/Nov-Assigments/EDA-1/BIKE DETAILS.csv')\n",
        "bike_details_df.head()"
      ],
      "metadata": {
        "id": "UgoCTMWEVUBO",
        "colab": {
          "base_uri": "https://localhost:8080/",
          "height": 106
        },
        "collapsed": true,
        "outputId": "9b32b98e-835d-4496-a6ab-b47f1ad3ceef"
      },
      "execution_count": 1,
      "outputs": [
        {
          "output_type": "error",
          "ename": "SyntaxError",
          "evalue": "(unicode error) 'unicodeescape' codec can't decode bytes in position 2-3: truncated \\UXXXXXXXX escape (<ipython-input-1-4593a70e8c62>, line 6)",
          "traceback": [
            "\u001b[0;36m  File \u001b[0;32m\"<ipython-input-1-4593a70e8c62>\"\u001b[0;36m, line \u001b[0;32m6\u001b[0m\n\u001b[0;31m    bike_details_df = pd.read_csv(\"C:\\Users\\pgati\\Downloads\\BIKE DETAILS.csv\")\u001b[0m\n\u001b[0m                                                                             ^\u001b[0m\n\u001b[0;31mSyntaxError\u001b[0m\u001b[0;31m:\u001b[0m (unicode error) 'unicodeescape' codec can't decode bytes in position 2-3: truncated \\UXXXXXXXX escape\n"
          ]
        }
      ]
    },
    {
      "cell_type": "code",
      "source": [
        "bike_details_df.shape"
      ],
      "metadata": {
        "id": "ZgHLhd0fWcYZ"
      },
      "execution_count": null,
      "outputs": []
    },
    {
      "cell_type": "markdown",
      "source": [
        "### Q1. What is the range of selling prices in the dataset?"
      ],
      "metadata": {
        "id": "dw1dmV0TTYMS"
      }
    },
    {
      "cell_type": "code",
      "execution_count": null,
      "metadata": {
        "id": "R7W_nDIWTXiT"
      },
      "outputs": [],
      "source": [
        "min_price = bike_details_df['selling_price'].min()\n",
        "max_price = bike_details_df['selling_price'].max()\n",
        "min_price, max_price"
      ]
    },
    {
      "cell_type": "markdown",
      "source": [
        "### Q2. What is the median selling price for bikes in the dataset?"
      ],
      "metadata": {
        "id": "mklpidSPTayG"
      }
    },
    {
      "cell_type": "code",
      "source": [
        "bike_details_df['selling_price'].median()"
      ],
      "metadata": {
        "id": "Gr25LezgVazl"
      },
      "execution_count": null,
      "outputs": []
    },
    {
      "cell_type": "markdown",
      "source": [
        "### Q3. What is the most common seller type?"
      ],
      "metadata": {
        "id": "fWrRTqBITav-"
      }
    },
    {
      "cell_type": "code",
      "source": [
        "bike_details_df['seller_type'].value_counts().idxmax()"
      ],
      "metadata": {
        "id": "zME70HG7VbUG"
      },
      "execution_count": null,
      "outputs": []
    },
    {
      "cell_type": "markdown",
      "source": [
        "### Q4. How many bikes have driven more than 50,000 kilometers?"
      ],
      "metadata": {
        "id": "imHp0USyTas4"
      }
    },
    {
      "cell_type": "code",
      "source": [
        "bike_details_df[bike_details_df['km_driven'] > 50000].shape[0]"
      ],
      "metadata": {
        "id": "C5b7FWT0VcD8"
      },
      "execution_count": null,
      "outputs": []
    },
    {
      "cell_type": "markdown",
      "source": [
        "### Q5. What is the average km_driven value for each ownership type?"
      ],
      "metadata": {
        "id": "CvuiIjRwTYVX"
      }
    },
    {
      "cell_type": "code",
      "source": [
        "bike_details_df.groupby('owner')['km_driven'].mean()"
      ],
      "metadata": {
        "id": "dzJG-_ZtVcYv"
      },
      "execution_count": null,
      "outputs": []
    },
    {
      "cell_type": "markdown",
      "source": [
        "### Q6. What proportion of bikes are from the year 2015 or older?"
      ],
      "metadata": {
        "id": "2WVR-nWFTYYT"
      }
    },
    {
      "cell_type": "code",
      "source": [
        "proportion_old = (bike_details_df[bike_details_df['year'] <= 2015].shape[0] / len(bike_details_df)) * 100\n",
        "proportion_old"
      ],
      "metadata": {
        "id": "jxPdeFtEVcuo"
      },
      "execution_count": null,
      "outputs": []
    },
    {
      "cell_type": "markdown",
      "source": [
        "### Q7. What is the trend of missing values across the dataset?"
      ],
      "metadata": {
        "id": "h0YFpOOrTYbj"
      }
    },
    {
      "cell_type": "code",
      "source": [
        "bike_details_df.isnull().sum()"
      ],
      "metadata": {
        "id": "Ai78G4_XVdFz"
      },
      "execution_count": null,
      "outputs": []
    },
    {
      "cell_type": "markdown",
      "source": [
        "### Q8. What is the highest ex_showroom_price recorded, and for which bike?"
      ],
      "metadata": {
        "id": "orafuGAsTYeG"
      }
    },
    {
      "cell_type": "code",
      "source": [
        "bike_details_df.loc[bike_details_df['ex_showroom_price'].idxmax(), ['name', 'ex_showroom_price']]"
      ],
      "metadata": {
        "id": "u09IEiKGVdlW"
      },
      "execution_count": null,
      "outputs": []
    },
    {
      "cell_type": "markdown",
      "source": [
        "### Q9. What is the total number of bikes listed by each seller type?"
      ],
      "metadata": {
        "id": "NcL_5-w1TYhC"
      }
    },
    {
      "cell_type": "code",
      "source": [
        "bike_details_df['seller_type'].value_counts()"
      ],
      "metadata": {
        "id": "s24b41_XVd6Z"
      },
      "execution_count": null,
      "outputs": []
    },
    {
      "cell_type": "markdown",
      "source": [
        "### Q10. What is the relationship between selling_price and km_driven for first-owner bikes?"
      ],
      "metadata": {
        "id": "m7hmM15TTYkW"
      }
    },
    {
      "cell_type": "code",
      "source": [
        "first_owner_bikes = bike_details_df[bike_details_df['owner'] == '1st owner']\n",
        "first_owner_bikes[['km_driven', 'selling_price']].corr()"
      ],
      "metadata": {
        "id": "E5LjaKCxVeRU"
      },
      "execution_count": null,
      "outputs": []
    },
    {
      "cell_type": "markdown",
      "source": [
        "### Q11. Identify and remove outliers in the km_driven column using the IQR method."
      ],
      "metadata": {
        "id": "MsxeJNBqTYnL"
      }
    },
    {
      "cell_type": "code",
      "source": [
        "Q1 = bike_details_df['km_driven'].quantile(0.25)\n",
        "Q3 = bike_details_df['km_driven'].quantile(0.75)\n",
        "IQR = Q3 - Q1\n",
        "no_outliers_df = bike_details_df[~((bike_details_df['km_driven'] < (Q1 - 1.5 * IQR)) |\n",
        "                                   (bike_details_df['km_driven'] > (Q3 + 1.5 * IQR)))]\n",
        "no_outliers_df.shape"
      ],
      "metadata": {
        "id": "66UDvEsfVfJs"
      },
      "execution_count": null,
      "outputs": []
    },
    {
      "cell_type": "markdown",
      "source": [
        "### Q12. Perform a bivariate analysis to visualize the relationship between year and selling_price."
      ],
      "metadata": {
        "id": "EtDVC4s8TYqi"
      }
    },
    {
      "cell_type": "code",
      "source": [
        "import seaborn as sns\n",
        "sns.scatterplot(data=bike_details_df, x='year', y='selling_price')\n",
        "plt.title('Year vs Selling Price')\n",
        "plt.show()"
      ],
      "metadata": {
        "id": "sfwkf4i-VflM"
      },
      "execution_count": null,
      "outputs": []
    },
    {
      "cell_type": "markdown",
      "source": [
        "### Q13. What is the average depreciation in selling price based on the bike's age (current year - manufacturing year)?"
      ],
      "metadata": {
        "id": "hSEnUhevTYtP"
      }
    },
    {
      "cell_type": "code",
      "source": [
        "import datetime\n",
        "current_year = datetime.datetime.now().year\n",
        "bike_details_df['bike_age'] = current_year - bike_details_df['year']\n",
        "bike_details_df.groupby('bike_age')['selling_price'].mean()"
      ],
      "metadata": {
        "id": "sFojoQFrVgIJ"
      },
      "execution_count": null,
      "outputs": []
    },
    {
      "cell_type": "markdown",
      "source": [
        "### Q14. Which bike names are priced significantly above the average price for their manufacturing year?"
      ],
      "metadata": {
        "id": "6M-o2rUATYvj"
      }
    },
    {
      "cell_type": "code",
      "source": [
        "avg_price_by_year = bike_details_df.groupby('year')['selling_price'].mean()\n",
        "high_priced_bikes = bike_details_df[bike_details_df.apply(\n",
        "    lambda row: row['selling_price'] > avg_price_by_year[row['year']], axis=1\n",
        ")]\n",
        "high_priced_bikes[['name', 'selling_price', 'year']]"
      ],
      "metadata": {
        "id": "TdShQHy_VgjI"
      },
      "execution_count": null,
      "outputs": []
    },
    {
      "cell_type": "markdown",
      "source": [
        "### Q15. Develop a correlation matrix for numeric columns and visualize it using a heatmap."
      ],
      "metadata": {
        "id": "q0u7BKK2TYyx"
      }
    },
    {
      "cell_type": "code",
      "source": [
        "correlation_matrix = bike_details_df[['selling_price', 'km_driven', 'year', 'ex_showroom_price']].corr()\n",
        "sns.heatmap(correlation_matrix, annot=True, cmap='coolwarm')\n",
        "plt.title('Correlation Matrix')\n",
        "plt.show()"
      ],
      "metadata": {
        "id": "EBr40e7fVhJI"
      },
      "execution_count": null,
      "outputs": []
    },
    {
      "cell_type": "markdown",
      "source": [
        "# EDA-2"
      ],
      "metadata": {
        "id": "DePxRtuxjy0L"
      }
    },
    {
      "cell_type": "code",
      "source": [
        "from google.colab import drive\n",
        "drive.mount('/content/drive')"
      ],
      "metadata": {
        "id": "UVHQO4icj18p"
      },
      "execution_count": null,
      "outputs": []
    },
    {
      "cell_type": "code",
      "source": [
        "import pandas as pd\n",
        "import numpy as np\n",
        "import seaborn as sns\n",
        "import matplotlib.pyplot as plt\n",
        "\n",
        "df = pd.read_csv('/content/drive/MyDrive/PW-Skills/Nov-Assigments/EDA-2/Car Sale.csv')\n",
        "df.head()"
      ],
      "metadata": {
        "id": "8XFvRZ0Wj4-5"
      },
      "execution_count": null,
      "outputs": []
    },
    {
      "cell_type": "code",
      "source": [
        "df.shape"
      ],
      "metadata": {
        "id": "oi0tswh6j8MR"
      },
      "execution_count": null,
      "outputs": []
    },
    {
      "cell_type": "markdown",
      "source": [
        "### Q1. What is the average selling price of cars for each dealer and how does it compare across different dealers?"
      ],
      "metadata": {
        "id": "C4Z0JdfQkIHo"
      }
    },
    {
      "cell_type": "code",
      "source": [
        "# Grouping by dealer name and calculating average selling price, then sorting by price\n",
        "df.groupby('Dealer_Name')['Price ($)'].mean().sort_values(ascending=False)"
      ],
      "metadata": {
        "id": "O1HIRDUBkRsi"
      },
      "execution_count": null,
      "outputs": []
    },
    {
      "cell_type": "markdown",
      "source": [
        "### Q2. Which car brand (Company) has the highest variation in prices, and what does this tell us about the pricing trends?"
      ],
      "metadata": {
        "id": "og3eJpCBkbNf"
      }
    },
    {
      "cell_type": "code",
      "source": [
        "# Calculating the price range (max - min) for each car brand\n",
        "df.groupby('Company')['Price ($)'].agg(['min', 'max', 'mean']).assign(price_range=lambda x: x['max'] - x['min'])"
      ],
      "metadata": {
        "id": "zdHXGon0kepg"
      },
      "execution_count": null,
      "outputs": []
    },
    {
      "cell_type": "markdown",
      "source": [
        "### Q3. What is the distribution of car prices for each transmission type, and how do the interquartile ranges compare?"
      ],
      "metadata": {
        "id": "AFLwANK-kjZZ"
      }
    },
    {
      "cell_type": "code",
      "source": [
        "# Plotting boxplot for car prices by transmission type to visualize distribution and interquartile ranges\n",
        "sns.boxplot(data=df, x='Transmission', y='Price ($)')"
      ],
      "metadata": {
        "id": "Nhg9V5Fhkmci"
      },
      "execution_count": null,
      "outputs": []
    },
    {
      "cell_type": "markdown",
      "source": [
        "### Q4. What is the distribution of car prices across different regions?"
      ],
      "metadata": {
        "id": "HGK9OL6JkqQx"
      }
    },
    {
      "cell_type": "code",
      "source": [
        "# Plotting the distribution of car prices across different dealer regions\n",
        "df.boxplot(column='Price ($)', by='Dealer_Region', grid=False)"
      ],
      "metadata": {
        "id": "bMi0vPaNkt99"
      },
      "execution_count": null,
      "outputs": []
    },
    {
      "cell_type": "markdown",
      "source": [
        "### Q5. What is the distribution of cars based on body styles?"
      ],
      "metadata": {
        "id": "ZH-wkjXtkw6s"
      }
    },
    {
      "cell_type": "code",
      "source": [
        "# Getting the count of cars by body style\n",
        "df['Body Style'].value_counts()"
      ],
      "metadata": {
        "id": "lFYWZjEVkzdZ"
      },
      "execution_count": null,
      "outputs": []
    },
    {
      "cell_type": "markdown",
      "source": [
        "### Q6. How does the average selling price of cars vary by customer gender and annual income?"
      ],
      "metadata": {
        "id": "uQMLssRMk125"
      }
    },
    {
      "cell_type": "code",
      "source": [
        "# Grouping by gender and calculating average price and annual income\n",
        "df.groupby('Gender').agg({'Price ($)': 'mean', 'Annual Income': 'mean'})"
      ],
      "metadata": {
        "id": "n9jmA8zFk47S"
      },
      "execution_count": null,
      "outputs": []
    },
    {
      "cell_type": "markdown",
      "source": [
        "### Q7. What is the distribution of car prices by region, and how does the number of cars sold vary by region?"
      ],
      "metadata": {
        "id": "PGpqpr79k8xJ"
      }
    },
    {
      "cell_type": "code",
      "source": [
        "# Plotting distribution of car prices and counting number of cars sold by region\n",
        "fig, ax = plt.subplots(1, 2, figsize=(14, 6))\n",
        "sns.boxplot(data=df, x='Dealer_Region', y='Price ($)', ax=ax[0])\n",
        "df['Dealer_Region'].value_counts().plot(kind='bar', ax=ax[1])"
      ],
      "metadata": {
        "id": "CW5K3t8TlHKB"
      },
      "execution_count": null,
      "outputs": []
    },
    {
      "cell_type": "markdown",
      "source": [
        "### Q8. How does the average car price differ between cars with different engine sizes?"
      ],
      "metadata": {
        "id": "QrX_-gbOlJkx"
      }
    },
    {
      "cell_type": "code",
      "source": [
        "# Grouping by engine size and calculating average car price\n",
        "df.groupby('Engine')['Price ($)'].mean().sort_values(ascending=False)"
      ],
      "metadata": {
        "id": "3W-B0VJalOxy"
      },
      "execution_count": null,
      "outputs": []
    },
    {
      "cell_type": "markdown",
      "source": [
        "### Q9. How do car prices vary based on the customer’s annual income bracket?"
      ],
      "metadata": {
        "id": "1SI8xSPXlRUt"
      }
    },
    {
      "cell_type": "code",
      "source": [
        "# Creating income brackets and analyzing the average price within each bracket\n",
        "income_bins = [0, 30000, 60000, 100000, 150000, float('inf')]\n",
        "income_labels = ['0-30k', '30k-60k', '60k-100k', '100k-150k', '150k+']\n",
        "df['Income_Bracket'] = pd.cut(df['Annual Income'], bins=income_bins, labels=income_labels)\n",
        "df.groupby('Income_Bracket')['Price ($)'].mean()"
      ],
      "metadata": {
        "id": "JzEJPHTslUDa"
      },
      "execution_count": null,
      "outputs": []
    },
    {
      "cell_type": "markdown",
      "source": [
        "###Q10. What are the top 5 car models with the highest number of sales, and how does their price distribution look?"
      ],
      "metadata": {
        "id": "TKd5BU33lWS4"
      }
    },
    {
      "cell_type": "code",
      "source": [
        "# Counting the number of sales per car model and plotting their price distributions\n",
        "top_5_models = df['Model'].value_counts().head(5).index\n",
        "sns.boxplot(data=df[df['Model'].isin(top_5_models)], x='Model', y='Price ($)')"
      ],
      "metadata": {
        "id": "C-w8Kgcslamp"
      },
      "execution_count": null,
      "outputs": []
    },
    {
      "cell_type": "markdown",
      "source": [
        "###Q11. How does car price vary with engine size across different car colors, and which colors have the highest price variation?"
      ],
      "metadata": {
        "id": "llIgsBX2leUR"
      }
    },
    {
      "cell_type": "code",
      "source": [
        "# Plotting engine size vs price across different car colors and calculating price variation\n",
        "sns.scatterplot(data=df, x='Engine', y='Price ($)', hue='Color')\n",
        "df.groupby('Color')['Price ($)'].std().sort_values(ascending=False)"
      ],
      "metadata": {
        "id": "FotTM4Mvlg45"
      },
      "execution_count": null,
      "outputs": []
    },
    {
      "cell_type": "markdown",
      "source": [
        "###Q12. Is there any seasonal trend in car sales based on the date of sale?"
      ],
      "metadata": {
        "id": "A7Bm0YOzljuR"
      }
    },
    {
      "cell_type": "code",
      "source": [
        "# Extracting month and year from the sale date and plotting the sales trend\n",
        "df['Sale_Month'] = pd.to_datetime(df['Date']).dt.month\n",
        "df.groupby('Sale_Month').size().plot(kind='line', title=\"Car Sales by Month\")"
      ],
      "metadata": {
        "id": "qiQLF97Clmni"
      },
      "execution_count": null,
      "outputs": []
    },
    {
      "cell_type": "markdown",
      "source": [
        "###Q13. How does the car price distribution change when considering different combinations of body style and transmission type?"
      ],
      "metadata": {
        "id": "SmFK0pa8lp3s"
      }
    },
    {
      "cell_type": "code",
      "source": [
        "# Plotting boxplots for price distribution by body style and transmission type combinations\n",
        "sns.boxplot(data=df, x='Body Style', y='Price ($)', hue='Transmission')"
      ],
      "metadata": {
        "id": "Bp7hXWHrlsjC"
      },
      "execution_count": null,
      "outputs": []
    },
    {
      "cell_type": "markdown",
      "source": [
        "### Q14. What is the correlation between car price, engine size, and annual income of customers, and how do these features interact?"
      ],
      "metadata": {
        "id": "4xmtwjUVlvCW"
      }
    },
    {
      "cell_type": "code",
      "source": [
        "# Check the data types to ensure numerical columns are correct\n",
        "print(df[['Price ($)', 'Engine', 'Annual Income']].dtypes)\n",
        "\n",
        "# Calculate correlation only for numeric columns\n",
        "correlation_matrix = df[['Price ($)', 'Engine', 'Annual Income']].corr()\n",
        "print(correlation_matrix)\n",
        "\n",
        "# Visualizing the correlation with a pairplot\n",
        "sns.pairplot(df[['Price ($)', 'Engine', 'Annual Income']])"
      ],
      "metadata": {
        "id": "YtlKXAZYlyva"
      },
      "execution_count": null,
      "outputs": []
    },
    {
      "cell_type": "markdown",
      "source": [
        "### Q15. How does the average car price vary across different car models and engine types?"
      ],
      "metadata": {
        "id": "S2jL79z_l1Xh"
      }
    },
    {
      "cell_type": "code",
      "source": [
        "# Grouping by Gender and Dealer Region, then calculating the average car price\n",
        "avg_price_by_gender_region = df.groupby(['Gender', 'Dealer_Region'])['Price ($)'].mean().unstack()\n",
        "\n",
        "# Storing the result in a DataFrame\n",
        "avg_price_df = pd.DataFrame(avg_price_by_gender_region)\n",
        "\n",
        "# Displaying the DataFrame\n",
        "avg_price_df"
      ],
      "metadata": {
        "id": "-A6MSiyEl4XB"
      },
      "execution_count": null,
      "outputs": []
    },
    {
      "cell_type": "markdown",
      "source": [
        "# EDA-3\n",
        "\n"
      ],
      "metadata": {
        "id": "96fU2DYwmBER"
      }
    },
    {
      "cell_type": "code",
      "source": [
        "##IMPORTS\n",
        "import numpy as np\n",
        "import pandas as pd\n",
        "import matplotlib.pyplot as plt\n",
        "import seaborn as sns\n",
        "from google.colab import drive\n",
        "\n",
        "import warnings\n",
        "warnings.filterwarnings('ignore')\n",
        "\n",
        "plt.style.use('ggplot') # Use stylesheet for plots\n",
        "#plt.style.use('fivethirtyeight')\n",
        "#pd.set_option('display.max_columns', 200)\n",
        "pd.set_option('display.max_rows', None)\n",
        "\n",
        "%matplotlib inline"
      ],
      "metadata": {
        "id": "eBydMTA-mgTx"
      },
      "execution_count": 3,
      "outputs": []
    },
    {
      "cell_type": "code",
      "source": [
        "# Mount Google Drive\n",
        "drive.mount('/drive')\n"
      ],
      "metadata": {
        "colab": {
          "base_uri": "https://localhost:8080/"
        },
        "id": "WFBOTAsqmn66",
        "outputId": "c3e8e4f6-c049-4243-c7f3-c7d981d8f477"
      },
      "execution_count": 10,
      "outputs": [
        {
          "output_type": "stream",
          "name": "stdout",
          "text": [
            "Mounted at /drive\n"
          ]
        }
      ]
    },
    {
      "cell_type": "code",
      "source": [
        "file_path = '//drive/u/0/my-drive /amazon.csv'\n",
        "data = pd.read_csv(file_path)\n",
        "\n",
        "# Display the first few rows of the DataFrame\n",
        "data.head()"
      ],
      "metadata": {
        "colab": {
          "base_uri": "https://localhost:8080/",
          "height": 356
        },
        "id": "o4u0VA89nLk4",
        "outputId": "94f741bc-6ca0-407b-ae3b-36f2b4e3e1a0"
      },
      "execution_count": 11,
      "outputs": [
        {
          "output_type": "error",
          "ename": "FileNotFoundError",
          "evalue": "[Errno 2] No such file or directory: '//drive/u/0/my-drive /amazon.csv'",
          "traceback": [
            "\u001b[0;31m---------------------------------------------------------------------------\u001b[0m",
            "\u001b[0;31mFileNotFoundError\u001b[0m                         Traceback (most recent call last)",
            "\u001b[0;32m<ipython-input-11-3321a300de16>\u001b[0m in \u001b[0;36m<cell line: 0>\u001b[0;34m()\u001b[0m\n\u001b[1;32m      1\u001b[0m \u001b[0mfile_path\u001b[0m \u001b[0;34m=\u001b[0m \u001b[0;34m'//drive/u/0/my-drive /amazon.csv'\u001b[0m  \u001b[0;31m# Replace with your actual file path\u001b[0m\u001b[0;34m\u001b[0m\u001b[0;34m\u001b[0m\u001b[0m\n\u001b[0;32m----> 2\u001b[0;31m \u001b[0mdata\u001b[0m \u001b[0;34m=\u001b[0m \u001b[0mpd\u001b[0m\u001b[0;34m.\u001b[0m\u001b[0mread_csv\u001b[0m\u001b[0;34m(\u001b[0m\u001b[0mfile_path\u001b[0m\u001b[0;34m)\u001b[0m\u001b[0;34m\u001b[0m\u001b[0;34m\u001b[0m\u001b[0m\n\u001b[0m\u001b[1;32m      3\u001b[0m \u001b[0;34m\u001b[0m\u001b[0m\n\u001b[1;32m      4\u001b[0m \u001b[0;31m# Display the first few rows of the DataFrame\u001b[0m\u001b[0;34m\u001b[0m\u001b[0;34m\u001b[0m\u001b[0m\n\u001b[1;32m      5\u001b[0m \u001b[0mdata\u001b[0m\u001b[0;34m.\u001b[0m\u001b[0mhead\u001b[0m\u001b[0;34m(\u001b[0m\u001b[0;34m)\u001b[0m\u001b[0;34m\u001b[0m\u001b[0;34m\u001b[0m\u001b[0m\n",
            "\u001b[0;32m/usr/local/lib/python3.11/dist-packages/pandas/io/parsers/readers.py\u001b[0m in \u001b[0;36mread_csv\u001b[0;34m(filepath_or_buffer, sep, delimiter, header, names, index_col, usecols, dtype, engine, converters, true_values, false_values, skipinitialspace, skiprows, skipfooter, nrows, na_values, keep_default_na, na_filter, verbose, skip_blank_lines, parse_dates, infer_datetime_format, keep_date_col, date_parser, date_format, dayfirst, cache_dates, iterator, chunksize, compression, thousands, decimal, lineterminator, quotechar, quoting, doublequote, escapechar, comment, encoding, encoding_errors, dialect, on_bad_lines, delim_whitespace, low_memory, memory_map, float_precision, storage_options, dtype_backend)\u001b[0m\n\u001b[1;32m   1024\u001b[0m     \u001b[0mkwds\u001b[0m\u001b[0;34m.\u001b[0m\u001b[0mupdate\u001b[0m\u001b[0;34m(\u001b[0m\u001b[0mkwds_defaults\u001b[0m\u001b[0;34m)\u001b[0m\u001b[0;34m\u001b[0m\u001b[0;34m\u001b[0m\u001b[0m\n\u001b[1;32m   1025\u001b[0m \u001b[0;34m\u001b[0m\u001b[0m\n\u001b[0;32m-> 1026\u001b[0;31m     \u001b[0;32mreturn\u001b[0m \u001b[0m_read\u001b[0m\u001b[0;34m(\u001b[0m\u001b[0mfilepath_or_buffer\u001b[0m\u001b[0;34m,\u001b[0m \u001b[0mkwds\u001b[0m\u001b[0;34m)\u001b[0m\u001b[0;34m\u001b[0m\u001b[0;34m\u001b[0m\u001b[0m\n\u001b[0m\u001b[1;32m   1027\u001b[0m \u001b[0;34m\u001b[0m\u001b[0m\n\u001b[1;32m   1028\u001b[0m \u001b[0;34m\u001b[0m\u001b[0m\n",
            "\u001b[0;32m/usr/local/lib/python3.11/dist-packages/pandas/io/parsers/readers.py\u001b[0m in \u001b[0;36m_read\u001b[0;34m(filepath_or_buffer, kwds)\u001b[0m\n\u001b[1;32m    618\u001b[0m \u001b[0;34m\u001b[0m\u001b[0m\n\u001b[1;32m    619\u001b[0m     \u001b[0;31m# Create the parser.\u001b[0m\u001b[0;34m\u001b[0m\u001b[0;34m\u001b[0m\u001b[0m\n\u001b[0;32m--> 620\u001b[0;31m     \u001b[0mparser\u001b[0m \u001b[0;34m=\u001b[0m \u001b[0mTextFileReader\u001b[0m\u001b[0;34m(\u001b[0m\u001b[0mfilepath_or_buffer\u001b[0m\u001b[0;34m,\u001b[0m \u001b[0;34m**\u001b[0m\u001b[0mkwds\u001b[0m\u001b[0;34m)\u001b[0m\u001b[0;34m\u001b[0m\u001b[0;34m\u001b[0m\u001b[0m\n\u001b[0m\u001b[1;32m    621\u001b[0m \u001b[0;34m\u001b[0m\u001b[0m\n\u001b[1;32m    622\u001b[0m     \u001b[0;32mif\u001b[0m \u001b[0mchunksize\u001b[0m \u001b[0;32mor\u001b[0m \u001b[0miterator\u001b[0m\u001b[0;34m:\u001b[0m\u001b[0;34m\u001b[0m\u001b[0;34m\u001b[0m\u001b[0m\n",
            "\u001b[0;32m/usr/local/lib/python3.11/dist-packages/pandas/io/parsers/readers.py\u001b[0m in \u001b[0;36m__init__\u001b[0;34m(self, f, engine, **kwds)\u001b[0m\n\u001b[1;32m   1618\u001b[0m \u001b[0;34m\u001b[0m\u001b[0m\n\u001b[1;32m   1619\u001b[0m         \u001b[0mself\u001b[0m\u001b[0;34m.\u001b[0m\u001b[0mhandles\u001b[0m\u001b[0;34m:\u001b[0m \u001b[0mIOHandles\u001b[0m \u001b[0;34m|\u001b[0m \u001b[0;32mNone\u001b[0m \u001b[0;34m=\u001b[0m \u001b[0;32mNone\u001b[0m\u001b[0;34m\u001b[0m\u001b[0;34m\u001b[0m\u001b[0m\n\u001b[0;32m-> 1620\u001b[0;31m         \u001b[0mself\u001b[0m\u001b[0;34m.\u001b[0m\u001b[0m_engine\u001b[0m \u001b[0;34m=\u001b[0m \u001b[0mself\u001b[0m\u001b[0;34m.\u001b[0m\u001b[0m_make_engine\u001b[0m\u001b[0;34m(\u001b[0m\u001b[0mf\u001b[0m\u001b[0;34m,\u001b[0m \u001b[0mself\u001b[0m\u001b[0;34m.\u001b[0m\u001b[0mengine\u001b[0m\u001b[0;34m)\u001b[0m\u001b[0;34m\u001b[0m\u001b[0;34m\u001b[0m\u001b[0m\n\u001b[0m\u001b[1;32m   1621\u001b[0m \u001b[0;34m\u001b[0m\u001b[0m\n\u001b[1;32m   1622\u001b[0m     \u001b[0;32mdef\u001b[0m \u001b[0mclose\u001b[0m\u001b[0;34m(\u001b[0m\u001b[0mself\u001b[0m\u001b[0;34m)\u001b[0m \u001b[0;34m->\u001b[0m \u001b[0;32mNone\u001b[0m\u001b[0;34m:\u001b[0m\u001b[0;34m\u001b[0m\u001b[0;34m\u001b[0m\u001b[0m\n",
            "\u001b[0;32m/usr/local/lib/python3.11/dist-packages/pandas/io/parsers/readers.py\u001b[0m in \u001b[0;36m_make_engine\u001b[0;34m(self, f, engine)\u001b[0m\n\u001b[1;32m   1878\u001b[0m                 \u001b[0;32mif\u001b[0m \u001b[0;34m\"b\"\u001b[0m \u001b[0;32mnot\u001b[0m \u001b[0;32min\u001b[0m \u001b[0mmode\u001b[0m\u001b[0;34m:\u001b[0m\u001b[0;34m\u001b[0m\u001b[0;34m\u001b[0m\u001b[0m\n\u001b[1;32m   1879\u001b[0m                     \u001b[0mmode\u001b[0m \u001b[0;34m+=\u001b[0m \u001b[0;34m\"b\"\u001b[0m\u001b[0;34m\u001b[0m\u001b[0;34m\u001b[0m\u001b[0m\n\u001b[0;32m-> 1880\u001b[0;31m             self.handles = get_handle(\n\u001b[0m\u001b[1;32m   1881\u001b[0m                 \u001b[0mf\u001b[0m\u001b[0;34m,\u001b[0m\u001b[0;34m\u001b[0m\u001b[0;34m\u001b[0m\u001b[0m\n\u001b[1;32m   1882\u001b[0m                 \u001b[0mmode\u001b[0m\u001b[0;34m,\u001b[0m\u001b[0;34m\u001b[0m\u001b[0;34m\u001b[0m\u001b[0m\n",
            "\u001b[0;32m/usr/local/lib/python3.11/dist-packages/pandas/io/common.py\u001b[0m in \u001b[0;36mget_handle\u001b[0;34m(path_or_buf, mode, encoding, compression, memory_map, is_text, errors, storage_options)\u001b[0m\n\u001b[1;32m    871\u001b[0m         \u001b[0;32mif\u001b[0m \u001b[0mioargs\u001b[0m\u001b[0;34m.\u001b[0m\u001b[0mencoding\u001b[0m \u001b[0;32mand\u001b[0m \u001b[0;34m\"b\"\u001b[0m \u001b[0;32mnot\u001b[0m \u001b[0;32min\u001b[0m \u001b[0mioargs\u001b[0m\u001b[0;34m.\u001b[0m\u001b[0mmode\u001b[0m\u001b[0;34m:\u001b[0m\u001b[0;34m\u001b[0m\u001b[0;34m\u001b[0m\u001b[0m\n\u001b[1;32m    872\u001b[0m             \u001b[0;31m# Encoding\u001b[0m\u001b[0;34m\u001b[0m\u001b[0;34m\u001b[0m\u001b[0m\n\u001b[0;32m--> 873\u001b[0;31m             handle = open(\n\u001b[0m\u001b[1;32m    874\u001b[0m                 \u001b[0mhandle\u001b[0m\u001b[0;34m,\u001b[0m\u001b[0;34m\u001b[0m\u001b[0;34m\u001b[0m\u001b[0m\n\u001b[1;32m    875\u001b[0m                 \u001b[0mioargs\u001b[0m\u001b[0;34m.\u001b[0m\u001b[0mmode\u001b[0m\u001b[0;34m,\u001b[0m\u001b[0;34m\u001b[0m\u001b[0;34m\u001b[0m\u001b[0m\n",
            "\u001b[0;31mFileNotFoundError\u001b[0m: [Errno 2] No such file or directory: '//drive/u/0/my-drive /amazon.csv'"
          ]
        }
      ]
    },
    {
      "cell_type": "code",
      "source": [
        "# Basic EDA: Checking for missing values, data types, and duplicates\n",
        "\n",
        "# Summary of the dataset\n",
        "data.info()\n",
        "\n",
        "# Check for missing values\n",
        "missing_values = data.isnull().sum()\n",
        "\n",
        "# Check for duplicates\n",
        "duplicates = data.duplicated().sum()\n",
        "\n",
        "# Display results\n",
        "missing_values, duplicates\n"
      ],
      "metadata": {
        "colab": {
          "base_uri": "https://localhost:8080/",
          "height": 211
        },
        "id": "R_daBoARpkwa",
        "outputId": "f63abc7c-eaa9-40a6-9d1f-6d79b5ccc813"
      },
      "execution_count": 12,
      "outputs": [
        {
          "output_type": "error",
          "ename": "NameError",
          "evalue": "name 'data' is not defined",
          "traceback": [
            "\u001b[0;31m---------------------------------------------------------------------------\u001b[0m",
            "\u001b[0;31mNameError\u001b[0m                                 Traceback (most recent call last)",
            "\u001b[0;32m<ipython-input-12-ec2385fb9d33>\u001b[0m in \u001b[0;36m<cell line: 0>\u001b[0;34m()\u001b[0m\n\u001b[1;32m      2\u001b[0m \u001b[0;34m\u001b[0m\u001b[0m\n\u001b[1;32m      3\u001b[0m \u001b[0;31m# Summary of the dataset\u001b[0m\u001b[0;34m\u001b[0m\u001b[0;34m\u001b[0m\u001b[0m\n\u001b[0;32m----> 4\u001b[0;31m \u001b[0mdata\u001b[0m\u001b[0;34m.\u001b[0m\u001b[0minfo\u001b[0m\u001b[0;34m(\u001b[0m\u001b[0;34m)\u001b[0m\u001b[0;34m\u001b[0m\u001b[0;34m\u001b[0m\u001b[0m\n\u001b[0m\u001b[1;32m      5\u001b[0m \u001b[0;34m\u001b[0m\u001b[0m\n\u001b[1;32m      6\u001b[0m \u001b[0;31m# Check for missing values\u001b[0m\u001b[0;34m\u001b[0m\u001b[0;34m\u001b[0m\u001b[0m\n",
            "\u001b[0;31mNameError\u001b[0m: name 'data' is not defined"
          ]
        }
      ]
    },
    {
      "cell_type": "code",
      "source": [
        "# Cleaning the data\n",
        "\n",
        "# Removing ₹ and commas, converting price columns to numeric\n",
        "data['discounted_price'] = data['discounted_price'].str.replace('₹', '').str.replace(',', '').astype(float)\n",
        "data['actual_price'] = data['actual_price'].str.replace('₹', '').str.replace(',', '').astype(float)\n",
        "\n",
        "# Removing % from discount_percentage and converting to numeric\n",
        "data['discount_percentage'] = data['discount_percentage'].str.replace('%', '').astype(float)\n",
        "\n",
        "# Converting rating to numeric\n",
        "data['rating'] = pd.to_numeric(data['rating'], errors='coerce')\n",
        "\n",
        "# Converting rating_count to numeric (removing commas and handling missing values)\n",
        "data['rating_count'] = data['rating_count'].str.replace(',', '').astype(float)\n",
        "\n",
        "# Handling missing values in rating_count by filling with 0\n",
        "data['rating_count'].fillna(0, inplace=True)\n",
        "\n",
        "# Splitting category into separate subcategories\n",
        "data['main_category'] = data['category'].str.split('|').str[0]\n",
        "\n",
        "# Confirming data cleaning\n",
        "data.info()\n"
      ],
      "metadata": {
        "id": "gcZLGqOhpzkw"
      },
      "execution_count": null,
      "outputs": []
    },
    {
      "cell_type": "markdown",
      "source": [
        "1. What is the average rating for each product category?"
      ],
      "metadata": {
        "id": "4Via0zs-p9oJ"
      }
    },
    {
      "cell_type": "code",
      "source": [
        "# Grouping the data by main category and calculating the average rating\n",
        "category_avg_rating = data.groupby('main_category')['rating'].mean().sort_values(ascending=False)\n",
        "\n",
        "# Resetting the index and renaming columns for better readability\n",
        "category_avg_rating = category_avg_rating.reset_index()\n",
        "category_avg_rating.columns = ['Category', 'Average Rating']\n",
        "\n",
        "# Displaying the results\n",
        "print(\"Average Rating for Each Product Category:\")\n",
        "category_avg_rating\n"
      ],
      "metadata": {
        "colab": {
          "base_uri": "https://localhost:8080/",
          "height": 211
        },
        "collapsed": true,
        "id": "JjmklWXrp_YY",
        "outputId": "18a8d181-ef5e-463c-e2a5-5442b76a0a6b"
      },
      "execution_count": 13,
      "outputs": [
        {
          "output_type": "error",
          "ename": "NameError",
          "evalue": "name 'data' is not defined",
          "traceback": [
            "\u001b[0;31m---------------------------------------------------------------------------\u001b[0m",
            "\u001b[0;31mNameError\u001b[0m                                 Traceback (most recent call last)",
            "\u001b[0;32m<ipython-input-13-b23a898c5a6a>\u001b[0m in \u001b[0;36m<cell line: 0>\u001b[0;34m()\u001b[0m\n\u001b[1;32m      1\u001b[0m \u001b[0;31m# Grouping the data by main category and calculating the average rating\u001b[0m\u001b[0;34m\u001b[0m\u001b[0;34m\u001b[0m\u001b[0m\n\u001b[0;32m----> 2\u001b[0;31m \u001b[0mcategory_avg_rating\u001b[0m \u001b[0;34m=\u001b[0m \u001b[0mdata\u001b[0m\u001b[0;34m.\u001b[0m\u001b[0mgroupby\u001b[0m\u001b[0;34m(\u001b[0m\u001b[0;34m'main_category'\u001b[0m\u001b[0;34m)\u001b[0m\u001b[0;34m[\u001b[0m\u001b[0;34m'rating'\u001b[0m\u001b[0;34m]\u001b[0m\u001b[0;34m.\u001b[0m\u001b[0mmean\u001b[0m\u001b[0;34m(\u001b[0m\u001b[0;34m)\u001b[0m\u001b[0;34m.\u001b[0m\u001b[0msort_values\u001b[0m\u001b[0;34m(\u001b[0m\u001b[0mascending\u001b[0m\u001b[0;34m=\u001b[0m\u001b[0;32mFalse\u001b[0m\u001b[0;34m)\u001b[0m\u001b[0;34m\u001b[0m\u001b[0;34m\u001b[0m\u001b[0m\n\u001b[0m\u001b[1;32m      3\u001b[0m \u001b[0;34m\u001b[0m\u001b[0m\n\u001b[1;32m      4\u001b[0m \u001b[0;31m# Resetting the index and renaming columns for better readability\u001b[0m\u001b[0;34m\u001b[0m\u001b[0;34m\u001b[0m\u001b[0m\n\u001b[1;32m      5\u001b[0m \u001b[0mcategory_avg_rating\u001b[0m \u001b[0;34m=\u001b[0m \u001b[0mcategory_avg_rating\u001b[0m\u001b[0;34m.\u001b[0m\u001b[0mreset_index\u001b[0m\u001b[0;34m(\u001b[0m\u001b[0;34m)\u001b[0m\u001b[0;34m\u001b[0m\u001b[0;34m\u001b[0m\u001b[0m\n",
            "\u001b[0;31mNameError\u001b[0m: name 'data' is not defined"
          ]
        }
      ]
    },
    {
      "cell_type": "markdown",
      "source": [
        "2. What are the top rating_count products by category?"
      ],
      "metadata": {
        "id": "bAsiIasnqIq4"
      }
    },
    {
      "cell_type": "code",
      "source": [
        "# Sorting products by category and rating_count in descending order\n",
        "top_products_by_category = (\n",
        "    data.sort_values(by=['main_category', 'rating_count'], ascending=[True, False])\n",
        "    .groupby('main_category')\n",
        "    .head(3)[['main_category', 'product_name', 'rating_count', 'rating']]\n",
        ")\n",
        "\n",
        "# Displaying the results\n",
        "print(\"Top Products by Category Based on Rating Count:\")\n",
        "top_products_by_category\n"
      ],
      "metadata": {
        "id": "RO_r0yRjqOjI"
      },
      "execution_count": null,
      "outputs": []
    },
    {
      "cell_type": "markdown",
      "source": [
        "3. What is the distribution of discounted prices vs. actual prices?"
      ],
      "metadata": {
        "id": "L4tG3J12qS2J"
      }
    },
    {
      "cell_type": "code",
      "source": [
        "# Plotting the distribution of actual and discounted prices\n",
        "plt.figure(figsize=(10, 6))\n",
        "sns.histplot(data['actual_price'], bins=30, label='Actual Price', color='blue', kde=True, alpha=0.6)\n",
        "sns.histplot(data['discounted_price'], bins=30, label='Discounted Price', color='red', kde=True, alpha=0.6)\n",
        "plt.title('Distribution of Discounted Prices vs. Actual Prices')\n",
        "plt.xlabel('Price')\n",
        "plt.ylabel('Frequency')\n",
        "plt.legend()\n",
        "plt.show()"
      ],
      "metadata": {
        "id": "WHk3ZmaYqaig"
      },
      "execution_count": null,
      "outputs": []
    },
    {
      "cell_type": "markdown",
      "source": [
        "4. How does the average discount percentage vary across categories?"
      ],
      "metadata": {
        "id": "4JeGMpffqgTx"
      }
    },
    {
      "cell_type": "code",
      "source": [
        "# Grouping the data by main category and calculating the average discount percentage\n",
        "average_discount_by_category = data.groupby('main_category')['discount_percentage'].mean().sort_values(ascending=False)\n",
        "\n",
        "# Resetting the index and renaming columns for better readability\n",
        "average_discount_by_category = average_discount_by_category.reset_index()\n",
        "average_discount_by_category.columns = ['Category', 'Average Discount (%)']\n",
        "\n",
        "# Displaying the results\n",
        "print(\"Average Discount Percentage by Category:\")\n",
        "average_discount_by_category\n"
      ],
      "metadata": {
        "id": "tRASlryMqlfQ"
      },
      "execution_count": null,
      "outputs": []
    },
    {
      "cell_type": "markdown",
      "source": [
        "5. What are the most popular product names?"
      ],
      "metadata": {
        "id": "ZTGSWTg4qu0R"
      }
    },
    {
      "cell_type": "code",
      "source": [
        "# Sorting products by rating_count in descending order to find the most popular products\n",
        "most_popular_products = (\n",
        "    data[['product_name', 'rating_count']]\n",
        "    .sort_values(by='rating_count', ascending=False)\n",
        "    .head(10)\n",
        ")\n",
        "\n",
        "# Displaying the results\n",
        "print(\"Most Popular Product Names:\")\n",
        "most_popular_products"
      ],
      "metadata": {
        "id": "iIp_UEqqq4zg"
      },
      "execution_count": null,
      "outputs": []
    },
    {
      "cell_type": "markdown",
      "source": [
        "6. What are the most popular product keywords?"
      ],
      "metadata": {
        "id": "TkIHH8yQq_Zp"
      }
    },
    {
      "cell_type": "code",
      "source": [
        "from collections import Counter\n",
        "from wordcloud import WordCloud\n",
        "\n",
        "# Tokenizing words in product names and counting occurrences\n",
        "keywords = ' '.join(data['product_name'].str.lower())\n",
        "word_count = Counter(keywords.split())\n",
        "\n",
        "# Generating a word cloud for visualization\n",
        "wordcloud = WordCloud(width=800, height=400, background_color='white').generate_from_frequencies(word_count)\n",
        "\n",
        "# Displaying the word cloud\n",
        "plt.figure(figsize=(10, 6))\n",
        "plt.imshow(wordcloud, interpolation='bilinear')\n",
        "plt.axis('off')\n",
        "plt.title('Most Popular Product Keywords')\n",
        "plt.show()\n",
        "\n",
        "# Displaying top 10 keywords\n",
        "top_keywords = pd.DataFrame(word_count.most_common(10), columns=['Keyword', 'Frequency'])\n",
        "print(\"Top Product Keywords:\")\n",
        "print(top_keywords)"
      ],
      "metadata": {
        "id": "UcTCf5JQrDjI"
      },
      "execution_count": null,
      "outputs": []
    },
    {
      "cell_type": "markdown",
      "source": [
        "7. What are the most popular product reviews?"
      ],
      "metadata": {
        "id": "Xtic_tVTrGxg"
      }
    },
    {
      "cell_type": "code",
      "source": [
        "# Identifying the products with the highest number of reviews\n",
        "most_popular_reviews = data[['product_name', 'review_title', 'rating_count']].sort_values(by='rating_count', ascending=False).head(10)\n",
        "\n",
        "# Displaying the results\n",
        "print(\"Most Popular Product Reviews:\")\n",
        "most_popular_reviews\n"
      ],
      "metadata": {
        "id": "Hw-_PlYfrKRq"
      },
      "execution_count": null,
      "outputs": []
    },
    {
      "cell_type": "markdown",
      "source": [
        "8. What is the correlation between discounted_price and rating?"
      ],
      "metadata": {
        "id": "TCPGHx5VrNnh"
      }
    },
    {
      "cell_type": "code",
      "source": [
        "# Calculating the correlation between discounted price and rating\n",
        "correlation = data['discounted_price'].corr(data['rating'])\n",
        "\n",
        "# Displaying the result\n",
        "print(f\"Correlation between Discounted Price and Rating: {correlation}\")"
      ],
      "metadata": {
        "id": "rzppcXKXrVb4"
      },
      "execution_count": null,
      "outputs": []
    },
    {
      "cell_type": "markdown",
      "source": [
        "9. What are the Top 5 categories based on the highest ratings?"
      ],
      "metadata": {
        "id": "GjkppBw_rX6y"
      }
    },
    {
      "cell_type": "code",
      "source": [
        "# Sorting categories by average rating in descending order\n",
        "top_categories_by_rating = data.groupby('main_category')['rating'].mean().sort_values(ascending=False).head(5)\n",
        "\n",
        "# Resetting the index and renaming columns for better readability\n",
        "top_categories_by_rating = top_categories_by_rating.reset_index()\n",
        "top_categories_by_rating.columns = ['Category', 'Average Rating']\n",
        "\n",
        "# Displaying the results\n",
        "print(\"Top 5 Categories Based on Highest Ratings:\")\n",
        "top_categories_by_rating\n"
      ],
      "metadata": {
        "id": "QQoQwIdlrcMQ"
      },
      "execution_count": null,
      "outputs": []
    },
    {
      "cell_type": "markdown",
      "source": [
        "10. Identify any potential areas for improvement or optimization based on the data analysis."
      ],
      "metadata": {
        "id": "otu8JxViredo"
      }
    },
    {
      "cell_type": "code",
      "source": [
        "# Insights based on previous analyses:\n",
        "# 1. Categories with low ratings may need improvement in product quality.\n",
        "low_rated_categories = data.groupby('main_category')['rating'].mean().sort_values().head(5)\n",
        "print(\"Categories with Lowest Average Ratings:\")\n",
        "print(low_rated_categories)\n",
        "\n",
        "# 2. Products with high actual prices and low discounts could be optimized for better sales.\n",
        "high_price_low_discount = data[(data['actual_price'] > data['actual_price'].median()) &\n",
        "                               (data['discount_percentage'] < data['discount_percentage'].median())]\n",
        "print(\"High Price and Low Discount Products:\")\n",
        "high_price_low_discount[['product_name', 'actual_price', 'discount_percentage']].head(10)\n"
      ],
      "metadata": {
        "id": "x4X1e9aUrg7o"
      },
      "execution_count": null,
      "outputs": []
    },
    {
      "cell_type": "markdown",
      "source": [
        "#EDA-4"
      ],
      "metadata": {
        "id": "6XHbLcKCsAKz"
      }
    },
    {
      "cell_type": "code",
      "source": [
        "##IMPORTS\n",
        "import numpy as np\n",
        "import pandas as pd\n",
        "import matplotlib.pyplot as plt\n",
        "import seaborn as sns\n",
        "from google.colab import drive\n",
        "\n",
        "import warnings\n",
        "warnings.filterwarnings('ignore')\n",
        "\n",
        "plt.style.use('ggplot') # Use stylesheet for plots\n",
        "#plt.style.use('fivethirtyeight')\n",
        "#pd.set_option('display.max_columns', 200)\n",
        "pd.set_option('display.max_rows', None)\n",
        "\n",
        "%matplotlib inline"
      ],
      "metadata": {
        "id": "GtWlpv3bsGKE"
      },
      "execution_count": null,
      "outputs": []
    },
    {
      "cell_type": "code",
      "source": [
        "# Mount Google Drive\n",
        "drive.mount('/content/drive')"
      ],
      "metadata": {
        "id": "cC1SXTH-sLcY"
      },
      "execution_count": null,
      "outputs": []
    },
    {
      "cell_type": "code",
      "source": [
        "file_path = '/drive/MyDrive/Data /spotify.csv'\n",
        "spotify_data = pd.read_csv(file_path)"
      ],
      "metadata": {
        "id": "0w2TyvagsPAo"
      },
      "execution_count": null,
      "outputs": []
    },
    {
      "cell_type": "markdown",
      "source": [
        "1.Read the dataframe, check null value if present then do the needful, check duplicate row , if present then do the needful."
      ],
      "metadata": {
        "id": "PPVgjDbasZOB"
      }
    },
    {
      "cell_type": "code",
      "source": [
        "# Checking for null values\n",
        "null_values = spotify_data.isnull().sum()\n",
        "\n",
        "# Checking for duplicate rows\n",
        "duplicate_rows = spotify_data.duplicated().sum()\n",
        "\n",
        "# Removing duplicates if any\n",
        "if duplicate_rows > 0:\n",
        "    spotify_data = spotify_data.drop_duplicates()\n",
        "\n",
        "print(\"Null Values per Column:\\n\", null_values)\n",
        "print(f\"Number of Duplicate Rows: {duplicate_rows}\")\n"
      ],
      "metadata": {
        "id": "ndSOAK2KsdWY"
      },
      "execution_count": null,
      "outputs": []
    },
    {
      "cell_type": "markdown",
      "source": [
        "2.What is the distribution of popularity among the tracks in the dataset? Visualize it using a histogram"
      ],
      "metadata": {
        "id": "JJ4NtcfasfeQ"
      }
    },
    {
      "cell_type": "code",
      "source": [
        "# Plotting the distribution of popularity\n",
        "plt.figure(figsize=(10, 6))\n",
        "sns.histplot(spotify_data['Popularity'], bins=20, kde=True, color='blue')\n",
        "plt.title('Distribution of Track Popularity')\n",
        "plt.xlabel('Popularity')\n",
        "plt.ylabel('Frequency')\n",
        "plt.show()\n"
      ],
      "metadata": {
        "id": "9TSti2GdsmJA"
      },
      "execution_count": null,
      "outputs": []
    },
    {
      "cell_type": "markdown",
      "source": [
        "3.Is there any relationship between the popularity and the duration of tracks? Explore this using a scatter plot."
      ],
      "metadata": {
        "id": "uUWDcroysoHR"
      }
    },
    {
      "cell_type": "code",
      "source": [
        "# Scatter plot for popularity vs duration\n",
        "plt.figure(figsize=(10, 6))\n",
        "sns.scatterplot(x=spotify_data['Duration (ms)'], y=spotify_data['Popularity'], color='green')\n",
        "plt.title('Relationship Between Popularity and Duration of Tracks')\n",
        "plt.xlabel('Duration (ms)')\n",
        "plt.ylabel('Popularity')\n",
        "plt.show()\n"
      ],
      "metadata": {
        "id": "49-Ai-q3sr66"
      },
      "execution_count": null,
      "outputs": []
    },
    {
      "cell_type": "markdown",
      "source": [
        "4.Which artist has the highest number of tracks in the dataset? Display the count of tracks for each artist using a countplot"
      ],
      "metadata": {
        "id": "DIqJ95scsugp"
      }
    },
    {
      "cell_type": "code",
      "source": [
        "# Count of tracks per artist\n",
        "top_artists = spotify_data['Artist'].value_counts()\n",
        "\n",
        "# Plotting the top 10 artists with the most tracks\n",
        "plt.figure(figsize=(12, 6))\n",
        "sns.countplot(y=spotify_data['Artist'],\n",
        "              order=spotify_data['Artist'].value_counts().head(10).index,\n",
        "              palette='viridis')\n",
        "plt.title('Top 10 Artists with the Most Tracks')\n",
        "plt.xlabel('Number of Tracks')\n",
        "plt.ylabel('Artist')\n",
        "plt.show()\n",
        "\n",
        "# Displaying the artist with the highest number of tracks\n",
        "most_tracks_artist = top_artists.idxmax()\n",
        "most_tracks_count = top_artists.max()\n",
        "print(f\"Artist with Most Tracks: {most_tracks_artist} ({most_tracks_count} tracks)\")\n"
      ],
      "metadata": {
        "id": "otkosZDfswPx"
      },
      "execution_count": null,
      "outputs": []
    },
    {
      "cell_type": "markdown",
      "source": [
        "5.What are the top 5 least popular tracks in the dataset? Provide the artist name and track name for each."
      ],
      "metadata": {
        "id": "LlTYW-GQsyU6"
      }
    },
    {
      "cell_type": "code",
      "source": [
        "# Finding the 5 least popular tracks\n",
        "least_popular_tracks = spotify_data.nsmallest(5, 'Popularity')[['Artist', 'Track Name', 'Popularity']]\n",
        "print(\"Top 5 Least Popular Tracks:\\n\", least_popular_tracks)\n"
      ],
      "metadata": {
        "id": "Ddl_rV80s0ow"
      },
      "execution_count": null,
      "outputs": []
    },
    {
      "cell_type": "markdown",
      "source": [
        "6. Among the top 5 most popular artists, which artist has the highest popularity on average? Calculate and display the average popularity for each artist."
      ],
      "metadata": {
        "id": "GXgPEScks2mo"
      }
    },
    {
      "cell_type": "code",
      "source": [
        "# Top 5 artists by track count\n",
        "top_5_artists = spotify_data['Artist'].value_counts().head(5).index\n",
        "\n",
        "# Calculate average popularity for each of the top 5 artists\n",
        "average_popularity_top_artists = (\n",
        "    spotify_data[spotify_data['Artist'].isin(top_5_artists)]\n",
        "    .groupby('Artist')['Popularity']\n",
        "    .mean()\n",
        "    .sort_values(ascending=False)\n",
        ")\n",
        "\n",
        "print(\"Average Popularity for Top 5 Most Popular Artists:\\n\", average_popularity_top_artists)\n"
      ],
      "metadata": {
        "id": "oc3V_RUJs4PY"
      },
      "execution_count": null,
      "outputs": []
    },
    {
      "cell_type": "markdown",
      "source": [
        "7.For the top 5 most popular artists, what are their most popular tracks? List the track name for each artist."
      ],
      "metadata": {
        "id": "s4Z_xrcFs9iR"
      }
    },
    {
      "cell_type": "code",
      "source": [
        "# Finding the most popular track for each of the top 5 artists\n",
        "most_popular_tracks_top_artists = (\n",
        "    spotify_data[spotify_data['Artist'].isin(top_5_artists)]\n",
        "    .sort_values(by=['Artist', 'Popularity'], ascending=[True, False])\n",
        "    .groupby('Artist')\n",
        "    .first()\n",
        ")[['Track Name', 'Popularity']]\n",
        "\n",
        "print(\"Most Popular Tracks for Top 5 Artists:\\n\", most_popular_tracks_top_artists)\n"
      ],
      "metadata": {
        "id": "a0tIZJ-WtG9I"
      },
      "execution_count": null,
      "outputs": []
    },
    {
      "cell_type": "markdown",
      "source": [
        "8.Visualize relationships between multiple numerical variables simultaneously using a pair plot."
      ],
      "metadata": {
        "id": "kaGAKKwltJYg"
      }
    },
    {
      "cell_type": "code",
      "source": [
        "# Pair plot for numerical variables\n",
        "sns.pairplot(spotify_data[['Popularity', 'Duration (ms)']])\n",
        "plt.suptitle('Pair Plot of Numerical Variables', y=1.02)\n",
        "plt.show()"
      ],
      "metadata": {
        "id": "VZ7ov3nYtNkh"
      },
      "execution_count": null,
      "outputs": []
    },
    {
      "cell_type": "markdown",
      "source": [
        "9.Does the duration of tracks vary significantly across different artists? Explore this visually using a box plot or violin plot."
      ],
      "metadata": {
        "id": "BOOXXYsktRnN"
      }
    },
    {
      "cell_type": "code",
      "source": [
        "# Box plot for track duration across top 10 artists\n",
        "top_10_artists = spotify_data['Artist'].value_counts().head(10).index\n",
        "\n",
        "plt.figure(figsize=(12, 6))\n",
        "sns.boxplot(x='Artist', y='Duration (ms)',\n",
        "            data=spotify_data[spotify_data['Artist'].isin(top_10_artists)],\n",
        "            palette='Set3')\n",
        "plt.title('Variation of Track Duration Across Top Artists')\n",
        "plt.xlabel('Artist')\n",
        "plt.ylabel('Duration (ms)')\n",
        "plt.xticks(rotation=45)\n",
        "plt.show()\n"
      ],
      "metadata": {
        "id": "2_2U7kFytShw"
      },
      "execution_count": null,
      "outputs": []
    },
    {
      "cell_type": "markdown",
      "source": [
        "10.How does the distribution of track popularity vary for different artists? Visualize this using a swarm plot or a violin plot."
      ],
      "metadata": {
        "id": "OaPJfcPEtUvD"
      }
    },
    {
      "cell_type": "code",
      "source": [
        "# Swarm plot for popularity distribution across top 10 artists\n",
        "plt.figure(figsize=(12, 6))\n",
        "sns.violinplot(x='Artist', y='Popularity',\n",
        "               data=spotify_data[spotify_data['Artist'].isin(top_10_artists)],\n",
        "               inner='quartile', palette='muted')\n",
        "plt.title('Popularity Distribution Across Top Artists')\n",
        "plt.xlabel('Artist')\n",
        "plt.ylabel('Popularity')\n",
        "plt.xticks(rotation=45)\n",
        "plt.show()\n"
      ],
      "metadata": {
        "id": "UdviszBVtYZI"
      },
      "execution_count": null,
      "outputs": []
    }
  ]
}